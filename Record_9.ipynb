
{
 "cells": [
  {
   "cell_type": "code",
   "execution_count": 2,
   "id": "05496dfa",
   "metadata": {},
   "outputs": [
    {
     "name": "stdout",
     "output_type": "stream",
     "text": [
      "Enter the source file:readline.txt\n",
      "lines in the file: 3\n"
     ]
    }
   ],
   "source": [
    "#1. Write a Python program to read a file line by line and store it into a list.\n",
    "\n",
    "l = []\n",
    "file1 = input(\"Enter the source file:\")\n",
    "f=open(file1,\"r\")\n",
    "for line in f.readlines() :\n",
    "    l.append(line)\n",
    "print(\"lines in the file:\",len(l))"
   ]
  },
  {
   "cell_type": "code",
   "execution_count": 3,
   "id": "2f07e571",
   "metadata": {},
   "outputs": [
    {
     "name": "stdout",
     "output_type": "stream",
     "text": [
      "Enter the source file:pqr.txt\n",
      "Enter the destination file:abc.txt\n"
     ]
    }
   ],
   "source": [
    "#2. Python program to copy odd lines of one file to other \n",
    "\n",
    "file1 = input(\"Enter the source file:\")\n",
    "file2 = input(\"Enter the destination file:\")\n",
    "f1=open(file1,\"r\")\n",
    "f2=open(file2,\"w\")\n",
    "i=0\n",
    "for line in f1.readlines() :\n",
    "    i=i+1\n",
    "    if i % 2 == 0 :\n",
    "        continue\n",
    "    f2.write(line)\n",
    "f1.close()\n",
    "f2.close()"
   ]
  },
  {
   "cell_type": "code",
   "execution_count": 4,
   "id": "0ddb2809",
   "metadata": {},
   "outputs": [
    {
     "name": "stdout",
     "output_type": "stream",
     "text": [
      "Enter csv file name:c.csv\n",
      "['1', 'anu', 'sales', '2 may 2000', '10000']\n",
      "['2', 'ash', 'mba', '3 june 2000', '50000']\n",
      "['3', 'amil', 'mca', '3 june 2003', '100000']\n",
      "['4', 'shanu', 'mca', '4 june 2003', '80000']\n"
     ]
    }
   ],
   "source": [
    "#3. Write a Python program to read each row from a given csv file and print a list of strings.\n",
    "\n",
    "\n",
    "\n",
    "import csv\n",
    "\n",
    "fname=input(\"Enter csv file name:\")\n",
    "f1=open(fname,\"r\")\n",
    "reader=csv.reader(f1)\n",
    "for row in reader:\n",
    "    print(row)\n",
    "f1.close()"
   ]
  },
  {
   "cell_type": "code",
   "execution_count": 5,
   "id": "0d77261f",
   "metadata": {},
   "outputs": [
    {
     "name": "stdout",
     "output_type": "stream",
     "text": [
      "Enter new filename with extension csv:new2.csv\n",
      "Enter number of dept:2\n",
      "Enter comma seperated deptid,deptname,TE,location:1,mca,30,calicut\n",
      "Enter comma seperated deptid,deptname,TE,location:2,mba,40,calicut\n",
      "DepartmentID. DepartmentName\n",
      "1  mca\n",
      "2  mba\n"
     ]
    }
   ],
   "source": [
    "#4. write a python program to read specific coloumns of a given CSV file and print the content of the coloumns.\n",
    "\n",
    "\n",
    "import csv\n",
    "\n",
    "file1 = input(\"Enter new filename with extension csv:\")\n",
    "with open(file1,\"a+\",newline=\"\")as f1 :\n",
    "    empdata = [\"deptid\",\"deptname\",\"TE\",\"location\"]\n",
    "    l=[]\n",
    "    writer = csv.DictWriter(f1,fieldnames=empdata)\n",
    "    writer.writeheader()\n",
    "    n=int(input(\"Enter number of dept:\"))\n",
    "    for i in range(n) :\n",
    "        l=list(input(\"Enter comma seperated deptid,deptname,TE,location:\").split(\",\"))\n",
    "        writer.writerow({'deptid':l[0],'deptname':l[1],'TE':l[2],'location':l[3]})\n",
    "        l.clear()\n",
    "    print(\"DepartmentID. DepartmentName\")\n",
    "with open(file1,\"r\") as f2:\n",
    "        rdr=csv.DictReader(f2)\n",
    "        for item in rdr:\n",
    "            print(item['deptid'],\"\",item['deptname'])"
   ]
  },
  {
   "cell_type": "code",
   "execution_count": 9,
   "id": "335d6fc2",
   "metadata": {},
   "outputs": [
    {
     "name": "stdout",
     "output_type": "stream",
     "text": [
      "Enter new source file name:new3.csv\n",
      "Enter comma seperated empid,empname,dptname,dob,salary:1,anu,mca,2 june 2000,20000\n",
      "Enter comma seperated empid,empname,dptname,dob,salary:2,ash,mba,11 december,30000\n",
      "The csv file contains:\n",
      "{'1': '2', 'anu': 'ash', 'mca': 'mba', '2 june 2000': '11 december', '20000': '30000'}\n"
     ]
    }
   ],
   "source": [
    "#5. 5. Write a Python program to write a Python dictionary to a csv file. After writing the CSV file read the CSV file and display the content.\n",
    "\n",
    "import csv\n",
    "\n",
    "file1=input(\"Enter new source file name:\")\n",
    "with open(file1,\"a+\",newline=\"\")as f1 :\n",
    "    empdata=[\"empid\",\"empname\",\"dptname\",\"dob\",\"salary\"]\n",
    "    l=[]\n",
    "    writer=csv.DictWriter(f1,fieldnames=empdata)\n",
    "    for i in range(2) :\n",
    "        l=list(input(\"Enter comma seperated empid,empname,dptname,dob,salary:\").split(\",\"))\n",
    "        writer.writerow({'empid':l[0],'empname':l[1],'dptname':l[2],'dob':l[3],'salary':l[4]})\n",
    "        l.clear()\n",
    "    print(\"The csv file contains:\")\n",
    "with open(file1,'r')as f2 :\n",
    "    for item in csv.DictReader(f2) :\n",
    "        print(dict(item))"
   ]
  },
  {
   "cell_type": "code",
   "execution_count": null,
   "id": "d23f8144",
   "metadata": {},
   "outputs": [],
   "source": [
    "        "
   ]
  }
 ],
 "metadata": {
  "kernelspec": {
   "display_name": "Python 3 (ipykernel)",
   "language": "python",
   "name": "python3"
  },
  "language_info": {
   "codemirror_mode": {
    "name": "ipython",
    "version": 3
   },
   "file_extension": ".py",
   "mimetype": "text/x-python",
   "name": "python",
   "nbconvert_exporter": "python",
   "pygments_lexer": "ipython3",
   "version": "3.9.7"
  }
 },
 "nbformat": 4,
 "nbformat_minor": 5
}
