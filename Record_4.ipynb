{
 "cells": [
  {
   "cell_type": "code",
   "execution_count": 4,
   "id": "e5ae892e",
   "metadata": {},
   "outputs": [
    {
     "name": "stdout",
     "output_type": "stream",
     "text": [
      "Enter a line of text: kmct college of engineering college\n",
      "Occurence of each word in the line of text = [('engineering', 1), ('kmct', 1), ('college', 2), ('of', 1)]\n"
     ]
    }
   ],
   "source": [
    "#1 program to  count the occurrences of each word in a line of text\n",
    "\n",
    "text = input(\"Enter a line of text: \").split()\n",
    "\n",
    "# Count occurrences of each word in text\n",
    "word_count = [(word, text.count(word)) for word in set(text)]\n",
    "\n",
    "# Print each word with its count\n",
    "#for word, count in word_count:\n",
    "print(\"Occurence of each word in the line of text =\",word_count)\n"
   ]
  },
  {
   "cell_type": "code",
   "execution_count": 2,
   "id": "5a5c0813",
   "metadata": {},
   "outputs": [
    {
     "name": "stdout",
     "output_type": "stream",
     "text": [
      "enter list of integers seperated by comma:150,30,200,50\n",
      "Modified list =  ['over', '30', 'over', '50']\n"
     ]
    }
   ],
   "source": [
    "#2 Prompt the user for a list of integers. For all values greater than 100, store ‘over’ instead.\n",
    "\n",
    "integer_list = list(input(\"enter list of integers seperated by comma:\").split(','))\n",
    "new_list = [\"over\" if int(i) > 100 else i for i in integer_list]   #take 1st value from the integer_list and \n",
    "#check if the value is greater than 100 ,then it prints 'over' instead of that value else the value is prints.\n",
    "\n",
    "print(\"Modified list = \",new_list)"
   ]
  },
  {
   "cell_type": "code",
   "execution_count": 2,
   "id": "ee2a25f1",
   "metadata": {},
   "outputs": [
    {
     "name": "stdout",
     "output_type": "stream",
     "text": [
      "enter 5 names seperated by comma :amil,muhammad,abu,aswin,justin\n",
      "['amil', 'muhammad', 'abu', 'aswin', 'justin']\n",
      "Number of 'a' in list =  5\n"
     ]
    }
   ],
   "source": [
    "#3 Store a list of first names. Count the occurrences of ‘a’ within the list\n",
    "\n",
    "first_names=list(input(\"enter 5 names seperated by comma :\").split(','))\n",
    "print(first_names)\n",
    "count_a=sum([name.count('a') for name in first_names])\n",
    "print(\"Number of 'a' in list = \",count_a)"
   ]
  },
  {
   "cell_type": "code",
   "execution_count": 17,
   "id": "069e4133",
   "metadata": {},
   "outputs": [
    {
     "name": "stdout",
     "output_type": "stream",
     "text": [
      "Enter some integers seperated by comma :1,2,3\n",
      "Enter some integers seperated by comma :1,4,5\n",
      "values of list1 1 , values of list2 1\n",
      "values of list1 2 , values of list2 4\n",
      "values of list1 3 , values of list2 5\n",
      "lists have same length\n",
      "lists having different sum\n",
      "Any same value : True\n"
     ]
    }
   ],
   "source": [
    "#4 Enter 2 lists of integers. Check (a) Whether list are of same length (b) whether list sums to same value (c) whether any value occur in both\n",
    "\n",
    "list1=list(map(int,input(\"Enter some integers seperated by comma :\").split(',')))\n",
    "list2=list(map(int,input(\"Enter some integers seperated by comma :\").split(',')))\n",
    "\n",
    "#Whether list are of same length\n",
    "\n",
    "length = len(list1) == len(list2)\n",
    "if length :\n",
    "    for val1,val2 in zip(list1,list2) :\n",
    "        print(f\"values of list1 {val1} , values of list2 {val2}\")\n",
    "    print(\"lists have same length\")\n",
    "else :    \n",
    "    print(\"lists having different length\")  \n",
    "\n",
    "#whether list sums to same value    \n",
    "    \n",
    "list_sum = [sum(list1) == sum(list2) for _ in range(1)]\n",
    "if list_sum[0] :\n",
    "    print(\"lists having same sum\")\n",
    "else :\n",
    "    print(\"lists having different sum\")\n",
    "    \n",
    "#whether any value occur in both   \n",
    "\n",
    "same_val = [item in list2 for item in list1]\n",
    "\n",
    "print(\"Any same value :\",any(same_val))"
   ]
  },
  {
   "cell_type": "code",
   "execution_count": 3,
   "id": "726032ef",
   "metadata": {},
   "outputs": [
    {
     "name": "stdout",
     "output_type": "stream",
     "text": [
      "enter list of integers seperated by comma :10,-20,30,40,-50\n",
      "Given list = [10, -20, 30, 40, -50]\n",
      "positive list = [10, 30, 40]\n"
     ]
    }
   ],
   "source": [
    "#5 List comprehensions:  \n",
    " \n",
    "#5 (a) Generate positive list of numbers from a given list of integers \n",
    "\n",
    "list1 = list(map(int,input(\"enter list of integers seperated by comma :\").split(',')))\n",
    "print(\"Given list =\",list1)\n",
    "positive_list = [i for i in list1 if i > 0 ]\n",
    "print(\"positive list =\",positive_list)\n"
   ]
  },
  {
   "cell_type": "code",
   "execution_count": 2,
   "id": "a11434b6",
   "metadata": {},
   "outputs": [
    {
     "name": "stdout",
     "output_type": "stream",
     "text": [
      "Enter a list of numbers seperated by comma :1,2,3,4,5,6\n",
      "Given list = [1, 2, 3, 4, 5, 6]\n",
      "Square of list of given numbers = [1, 4, 9, 16, 25, 36]\n"
     ]
    }
   ],
   "source": [
    "#5 (b) Square of N numbers\n",
    "\n",
    "list1 = list(map(int,input(\"Enter a list of numbers seperated by comma :\").split(',')))\n",
    "print(\"Given list =\",list1)\n",
    "square = [i**2 for i in list1]\n",
    "print(\"Square of list of given numbers =\",square)"
   ]
  },
  {
   "cell_type": "code",
   "execution_count": 1,
   "id": "e0354178",
   "metadata": {},
   "outputs": [
    {
     "name": "stdout",
     "output_type": "stream",
     "text": [
      "Enter the string:amil nishan pattambi\n",
      "List of vowels from the given words = ['a', 'i', 'i', 'a', 'a', 'a', 'i']\n"
     ]
    }
   ],
   "source": [
    "#5 (c) Form a list of vowels selected from a given word \n",
    "\n",
    "str1 = input(\"Enter the string:\")\n",
    "vowels = [letter for letter in str1 if letter in 'aeiouAEIOU']\n",
    "print(\"List of vowels from the given words =\",vowels)"
   ]
  },
  {
   "cell_type": "code",
   "execution_count": 38,
   "id": "ae2d531d",
   "metadata": {},
   "outputs": [
    {
     "name": "stdout",
     "output_type": "stream",
     "text": [
      "enter a word:hello\n",
      "ordinal value = [104, 101, 108, 108, 111]\n"
     ]
    }
   ],
   "source": [
    "#5 (d) List ordinal value of each element of a word (Hint: use ord() to get ordinal values)\n",
    "\n",
    "word=input(\"enter a word:\")\n",
    "\n",
    "ordinal_values = [ord(letter) for letter in word]\n",
    "\n",
    "print(\"ordinal value =\",ordinal_values)"
   ]
  },
  {
   "cell_type": "code",
   "execution_count": null,
   "id": "b9cbddab",
   "metadata": {},
   "outputs": [],
   "source": []
  }
 ],
 "metadata": {
  "kernelspec": {
   "display_name": "Python 3 (ipykernel)",
   "language": "python",
   "name": "python3"
  },
  "language_info": {
   "codemirror_mode": {
    "name": "ipython",
    "version": 3
   },
   "file_extension": ".py",
   "mimetype": "text/x-python",
   "name": "python",
   "nbconvert_exporter": "python",
   "pygments_lexer": "ipython3",
   "version": "3.9.7"
  }
 },
 "nbformat": 4,
 "nbformat_minor": 5
}
