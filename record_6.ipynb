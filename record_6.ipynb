{
 "cells": [
  {
   "cell_type": "code",
   "execution_count": 10,
   "id": "dff1728e",
   "metadata": {},
   "outputs": [
    {
     "name": "stdout",
     "output_type": "stream",
     "text": [
      "enter the current :2024\n",
      "enter the final year :2050\n",
      "Leap years \n",
      "2024\n",
      "2028\n",
      "2032\n",
      "2036\n",
      "2040\n",
      "2044\n",
      "2048\n"
     ]
    }
   ],
   "source": [
    "#1. Display future leap years from current year to a final year entered by user. \n",
    "\n",
    "def lpyear(cyear,fyear) :\n",
    "    print(\"Leap years \")\n",
    "    for year in range(cyear,fyear+1) :\n",
    "        if (year % 4 == 0 and year % 100 != 0) or (year % 400 == 0):\n",
    "            print(year)\n",
    "    \n",
    "cyear=int(input(\"enter the current :\"))\n",
    "fyear=int(input(\"enter the final year :\"))\n",
    "lpyear(cyear,fyear)"
   ]
  },
  {
   "cell_type": "code",
   "execution_count": 6,
   "id": "de100958",
   "metadata": {},
   "outputs": [
    {
     "name": "stdout",
     "output_type": "stream",
     "text": [
      "enter the number:5\n",
      "Factorial of the number 5 = 120\n",
      "enter the number:6\n",
      "Factorial of the number 6 = 720\n"
     ]
    }
   ],
   "source": [
    "#2. Program to find the factorial of a number.\n",
    "\n",
    "def factorial() :\n",
    "    fact=1\n",
    "    num=int(input(\"enter the number:\"))\n",
    "    n=num\n",
    "    while(n != 0):\n",
    "        fact=fact*n\n",
    "        n=n-1\n",
    "    print(\"Factorial of the number\",num,\"=\",fact )\n",
    "    \n",
    "factorial()\n",
    "factorial()"
   ]
  },
  {
   "cell_type": "code",
   "execution_count": 1,
   "id": "7a7c03b1",
   "metadata": {},
   "outputs": [
    {
     "name": "stdout",
     "output_type": "stream",
     "text": [
      "Enter the limit: 5\n",
      "0\n",
      "1\n",
      "1\n",
      "2\n",
      "3\n",
      "5\n"
     ]
    }
   ],
   "source": [
    "#3. Generate Fibonacci series of N terms\n",
    "\n",
    "def fibonacci(limit):\n",
    "    f1 = 0 \n",
    "    f2 = 1\n",
    "    fn = 0\n",
    "    print(f1)\n",
    "    print(f2)\n",
    "    while(fn < limit):\n",
    "        fn = f1 + f2\n",
    "        print(fn)\n",
    "        f1 = f2\n",
    "        f2 = fn\n",
    "\n",
    "limit = int(input(\"Enter the limit: \"))\n",
    "fibonacci(limit)\n"
   ]
  },
  {
   "cell_type": "code",
   "execution_count": 2,
   "id": "c85d3897",
   "metadata": {},
   "outputs": [
    {
     "name": "stdout",
     "output_type": "stream",
     "text": [
      "Enter a list of words separated by spaces:amil nishan comes from pattambi\n",
      "longest word is : pattambi\n",
      "length of longest word is: 8\n"
     ]
    }
   ],
   "source": [
    "#4. Accept a list of words and return length of longest word.\n",
    "\n",
    "def string(words) :\n",
    "     longest=max(words,key=len)\n",
    "     return longest,len(longest)    \n",
    "    \n",
    "words = input(\"Enter a list of words separated by spaces:\").split()\n",
    "word,length=string(words)\n",
    "print(\"longest word is :\",word)\n",
    "print(\"length of longest word is:\",length)"
   ]
  },
  {
   "cell_type": "code",
   "execution_count": 4,
   "id": "00b02874",
   "metadata": {},
   "outputs": [
    {
     "name": "stdout",
     "output_type": "stream",
     "text": [
      "enter the limit:5\n",
      "*\n",
      "**\n",
      "***\n",
      "****\n",
      "*****\n",
      "****\n",
      "***\n",
      "**\n",
      "*\n"
     ]
    }
   ],
   "source": [
    "#5. Construct following pattern using nested loop\n",
    "\"\"\"                     * \n",
    "                        *   * \n",
    "                        *   *   * \n",
    "                        *   *   *   *    \n",
    "                        *   *   *   *   *    \n",
    "                        *   *   *   *    \n",
    "                        *   *   *   * \n",
    "                        *   *\n",
    "                        *                   \"\"\"\n",
    "                        \n",
    "def star(limit):\n",
    "    for i in range(1, limit + 1) :\n",
    "        print(\"*\" * i)  # Prints a string of stars of length 'i'\n",
    "    for i in range(limit-1,0,-1) :\n",
    "        print(\"*\" * i)\n",
    "        \n",
    "num = int(input(\"enter the limit:\"))  # Get the limit from user input\n",
    "star(num)  # Call the function with the user-defined limit\n"
   ]
  },
  {
   "cell_type": "code",
   "execution_count": 2,
   "id": "15144fd7",
   "metadata": {},
   "outputs": [
    {
     "name": "stdout",
     "output_type": "stream",
     "text": [
      "enter a number:50\n",
      "factor of number 50 =\n",
      "1\n",
      "2\n",
      "5\n",
      "10\n",
      "25\n",
      "50\n"
     ]
    }
   ],
   "source": [
    "#6.  Generate all factors of a number.\n",
    "\n",
    "def factor(num) :\n",
    "    for i in range(1,num+1) :\n",
    "        if num % i == 0 :\n",
    "            print(i)\n",
    "\n",
    "num=int(input(\"enter a number:\"))\n",
    "print(\"factor of number\",num,\"=\")\n",
    "factor(num)"
   ]
  },
  {
   "cell_type": "code",
   "execution_count": 3,
   "id": "9343cb0b",
   "metadata": {},
   "outputs": [
    {
     "name": "stdout",
     "output_type": "stream",
     "text": [
      "Enter the number of steps:5\n",
      "1 \n",
      "2 4 \n",
      "3 6 9 \n",
      "4 8 12 16 \n",
      "5 10 15 20 25 \n"
     ]
    }
   ],
   "source": [
    "#7.  Display the given pyramid with step number accepted from user.\n",
    "#Eg: N=4 \n",
    "\n",
    "def pyramid(num) :\n",
    "    for i in range(1,num+1) :\n",
    "        for j in range(1,i+1) :\n",
    "            print(i*j,end=\" \")\n",
    "        print()\n",
    "\n",
    "num=int(input(\"Enter the number of steps:\"))\n",
    "pyramid(num)"
   ]
  },
  {
   "cell_type": "code",
   "execution_count": 4,
   "id": "750bbf78",
   "metadata": {},
   "outputs": [
    {
     "name": "stdout",
     "output_type": "stream",
     "text": [
      "Enter the side of the square:4\n",
      "Enter the width of rectangle:4\n",
      "Enter the length of rectangle:8\n",
      "Enter the breadth of triangle:6\n",
      "Enter the height of triangle:8\n",
      "area of square = 16\n",
      "area of rectangle = 32\n",
      "area of triangle = 24.0\n"
     ]
    }
   ],
   "source": [
    "#8. Write lambda functions to find area of square, rectangle and triangle.\n",
    "\n",
    "\n",
    "side=int(input(\"Enter the side of the square:\"))\n",
    "width=int(input(\"Enter the width of rectangle:\"))\n",
    "length=int(input(\"Enter the length of rectangle:\"))\n",
    "breadth=int(input(\"Enter the breadth of triangle:\"))\n",
    "height=int(input(\"Enter the height of triangle:\"))\n",
    "\n",
    "square=lambda side : side*side\n",
    "rectangle=lambda width,length : width * length\n",
    "triangle=lambda breadth,height : 0.5 * height * breadth\n",
    "print(\"area of square =\",square(side))\n",
    "print(\"area of rectangle =\",rectangle(width,length))\n",
    "print(\"area of triangle =\",triangle(breadth,height))"
   ]
  },
  {
   "cell_type": "code",
   "execution_count": null,
   "id": "0c88e021",
   "metadata": {},
   "outputs": [],
   "source": []
  }
 ],
 "metadata": {
  "kernelspec": {
   "display_name": "Python 3 (ipykernel)",
   "language": "python",
   "name": "python3"
  },
  "language_info": {
   "codemirror_mode": {
    "name": "ipython",
    "version": 3
   },
   "file_extension": ".py",
   "mimetype": "text/x-python",
   "name": "python",
   "nbconvert_exporter": "python",
   "pygments_lexer": "ipython3",
   "version": "3.9.7"
  }
 },
 "nbformat": 4,
 "nbformat_minor": 5
}
