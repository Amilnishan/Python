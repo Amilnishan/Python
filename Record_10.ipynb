{
 "cells": [
  {
   "cell_type": "code",
   "execution_count": 17,
   "id": "57ba2ac1",
   "metadata": {},
   "outputs": [
    {
     "name": "stdout",
     "output_type": "stream",
     "text": [
      "enter a number:10\n",
      "enter a number:0\n",
      "Error:Division by zero is not allowed\n",
      "Program execution completed\n"
     ]
    }
   ],
   "source": [
    "#1. Write a program to handle ZeroDivisionError, ValueError which may arise when two numbers are being divided.\n",
    "\n",
    "try:\n",
    "    num1=int(input(\"enter a number:\"))\n",
    "    num2=int(input(\"enter a number:\"))\n",
    "    result=num1 / num2\n",
    "except ZeroDivisionError:\n",
    "    print(\"Error:Division by zero is not allowed\")\n",
    "except ValueError:\n",
    "    print(\"Error:Invalid input.Please enter numeric values\")\n",
    "else:\n",
    "    print(\"Result=\",result)\n",
    "finally:\n",
    "    print(\"Program execution completed\")\n"
   ]
  },
  {
   "cell_type": "code",
   "execution_count": null,
   "id": "11b7219a",
   "metadata": {},
   "outputs": [],
   "source": []
  }
 ],
 "metadata": {
  "kernelspec": {
   "display_name": "Python 3 (ipykernel)",
   "language": "python",
   "name": "python3"
  },
  "language_info": {
   "codemirror_mode": {
    "name": "ipython",
    "version": 3
   },
   "file_extension": ".py",
   "mimetype": "text/x-python",
   "name": "python",
   "nbconvert_exporter": "python",
   "pygments_lexer": "ipython3",
   "version": "3.9.7"
  }
 },
 "nbformat": 4,
 "nbformat_minor": 5
}
