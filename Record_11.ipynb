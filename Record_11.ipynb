
{
 "cells": [
  {
   "cell_type": "code",
   "execution_count": 1,
   "id": "e7a935ff",
   "metadata": {},
   "outputs": [
    {
     "name": "stdout",
     "output_type": "stream",
     "text": [
      "Enter emails and phone no.s seperated by commas:amilnishan7@gmail.com,8593890805\n",
      "\n",
      "valid Emails:\n",
      "-amilnishan7@gmail.com\n",
      "\n",
      "valid phone numbers:\n",
      "-8593890805\n"
     ]
    }
   ],
   "source": [
    "#1. Write a Python program that accepts a list of email addresses and phone numbers from the user, separated by commas, and validates each input using regular expressions.\n",
    "\n",
    "\n",
    "import re\n",
    "\n",
    "email_pattern = r'^[a-zA-Z0-9._%+-]+@[a-zA-Z0-9.-]+\\.[a-zA-Z]{2,}$'\n",
    "phone_pattern = r'^\\+?\\d{0,2}[-\\s]?\\d{10}$'\n",
    "\n",
    "email_phone = input(\"Enter emails and phone no.s seperated by commas:\")\n",
    "inputs = [item.strip()for item in email_phone.split(\",\")]\n",
    "\n",
    "valid_emails = []\n",
    "valid_phone_nos = []\n",
    "\n",
    "for item in inputs :\n",
    "    if re.match(email_pattern,item) :\n",
    "        valid_emails.append(item)\n",
    "    elif re.match(phone_pattern,item):\n",
    "        valid_phone_nos.append(item)\n",
    "        \n",
    "print(\"\\nvalid Emails:\")\n",
    "for email in valid_emails :\n",
    "    print(f\"-{email}\")\n",
    "    \n",
    "print(\"\\nvalid phone numbers:\")\n",
    "for phone in valid_phone_nos :\n",
    "    print(f\"-{phone}\")\n",
    "        "
   ]
  },
  {
   "cell_type": "code",
   "execution_count": null,
   "id": "1b790bc0",
   "metadata": {},
   "outputs": [],
   "source": []
  },
  {
   "cell_type": "code",
   "execution_count": null,
   "id": "5230a290",
   "metadata": {},
   "outputs": [],
   "source": []
  }
 ],
 "metadata": {
  "kernelspec": {
   "display_name": "Python 3 (ipykernel)",
   "language": "python",
   "name": "python3"
  },
  "language_info": {
   "codemirror_mode": {
    "name": "ipython",
    "version": 3
   },
   "file_extension": ".py",
   "mimetype": "text/x-python",
   "name": "python",
   "nbconvert_exporter": "python",
   "pygments_lexer": "ipython3",
   "version": "3.9.7"
  }
 },
 "nbformat": 4,
 "nbformat_minor": 5
}
