{
 "cells": [
  {
   "cell_type": "code",
   "execution_count": 2,
   "id": "941db1de",
   "metadata": {},
   "outputs": [
    {
     "name": "stdout",
     "output_type": "stream",
     "text": [
      "enter a number:150\n",
      "enter another number:500\n",
      "Gcd of 2 numbers =  50\n"
     ]
    }
   ],
   "source": [
    "#1. Find gcd of 2 numbers.\n",
    "\n",
    "num1=int(input(\"enter a number:\"))\n",
    "num2=int(input(\"enter another number:\"))\n",
    "\n",
    "while num2 != 0:\n",
    "    num1, num2 = num2, num1 % num2\n",
    "print(\"Gcd of 2 numbers = \",num1)"
   ]
  },
  {
   "cell_type": "code",
   "execution_count": 1,
   "id": "f5b278fd",
   "metadata": {},
   "outputs": [
    {
     "name": "stdout",
     "output_type": "stream",
     "text": [
      "enter list of numbers seperated by comma:1,2,3,4,5,6\n",
      "Given list = [1, 2, 3, 4, 5, 6]\n",
      "List without even numbers = [1, 3, 5]\n"
     ]
    }
   ],
   "source": [
    "#2. From a list of integers, create a list removing even numbers.\n",
    "\n",
    "list1=list(map(int,input(\"enter list of numbers seperated by comma:\").split(',')))\n",
    "list2=[]\n",
    "print(\"Given list =\",list1)\n",
    "for i in list1 :\n",
    "    if i % 2 == 1 :\n",
    "        list2.append(i)\n",
    "print(\"List without even numbers =\",list2)"
   ]
  },
  {
   "cell_type": "code",
   "execution_count": 3,
   "id": "3f35e0df",
   "metadata": {},
   "outputs": [
    {
     "name": "stdout",
     "output_type": "stream",
     "text": [
      "enter list of numbers seperated by comma:1,2,3,4,5,6\n",
      "[1, 2, 3, 4, 5, 6]\n",
      "sum = 21\n"
     ]
    }
   ],
   "source": [
    "#3. Find the sum of all items in a list\n",
    "\n",
    "sum=0\n",
    "list1=list(map(int,input(\"enter list of numbers seperated by comma:\").split(',')))\n",
    "print(list1)\n",
    "for i in list1 :\n",
    "    sum = i + sum\n",
    "print(\"sum =\",sum)"
   ]
  },
  {
   "cell_type": "code",
   "execution_count": 16,
   "id": "2af2f174",
   "metadata": {},
   "outputs": [
    {
     "name": "stdout",
     "output_type": "stream",
     "text": [
      "Enter a four digit starting number:2000\n",
      "Enter a four digit ending number:9999\n",
      "numbers with all even digits: [4624, 6084, 6400, 8464]\n"
     ]
    }
   ],
   "source": [
    "#4. Generate a list of four digit numbers in a given range with all their digits even and the number is a perfect square.\n",
    "\n",
    "import math\n",
    "\n",
    "start=int(input(\"Enter a four digit starting number:\"))\n",
    "end=int(input(\"Enter a four digit ending number:\"))\n",
    "list1=[]\n",
    "\n",
    "for i in range(start,end + 1) :\n",
    "    if math.isqrt(i) ** 2 == i :\n",
    "        if all(int(i) % 2 == 0 for i in str(i)) : #checking all the digit % 2 == 0\n",
    "            list1.append(i)\n",
    "print(\"numbers with all even digits:\",list1)\n",
    "\n",
    "\n"
   ]
  },
  {
   "cell_type": "code",
   "execution_count": 21,
   "id": "0a4c9329",
   "metadata": {},
   "outputs": [
    {
     "name": "stdout",
     "output_type": "stream",
     "text": [
      "Enter a string:nishan\n",
      "Character frequency = {'n': 2, 'i': 1, 's': 1, 'h': 1, 'a': 1}\n"
     ]
    }
   ],
   "source": [
    "#5. Count the number of characters (character frequency) in a string.\n",
    "\n",
    "str1=input(\"Enter a string:\")\n",
    "char_freq = {char: str1.count(char) for char in list(str1)}\n",
    "print(\"Character frequency =\",char_freq)"
   ]
  },
  {
   "cell_type": "code",
   "execution_count": 27,
   "id": "949960fc",
   "metadata": {},
   "outputs": [
    {
     "name": "stdout",
     "output_type": "stream",
     "text": [
      "enter a string:playing\n",
      "Modified string: playingly\n"
     ]
    }
   ],
   "source": [
    "#6. Add ‘ing’ at the end of a given string. If it already ends with ‘ing’, then add ‘ly’\n",
    "\n",
    "str1=input(\"enter a string:\")\n",
    "if str1.endswith(\"ing\") :\n",
    "    print(\"Modified string:\",str1 + \"ly\")\n",
    "else :\n",
    "    print(\"Modified string:\",str1 + \"ing\")"
   ]
  },
  {
   "cell_type": "code",
   "execution_count": null,
   "id": "8821f4b6",
   "metadata": {},
   "outputs": [],
   "source": []
  }
 ],
 "metadata": {
  "kernelspec": {
   "display_name": "Python 3 (ipykernel)",
   "language": "python",
   "name": "python3"
  },
  "language_info": {
   "codemirror_mode": {
    "name": "ipython",
    "version": 3
   },
   "file_extension": ".py",
   "mimetype": "text/x-python",
   "name": "python",
   "nbconvert_exporter": "python",
   "pygments_lexer": "ipython3",
   "version": "3.9.7"
  }
 },
 "nbformat": 4,
 "nbformat_minor": 5
}
