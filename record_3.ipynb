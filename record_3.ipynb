{
 "cells": [
  {
   "cell_type": "code",
   "execution_count": 1,
   "id": "941a5ea8",
   "metadata": {},
   "outputs": [
    {
     "name": "stdout",
     "output_type": "stream",
     "text": [
      "enter a string:python\n",
      "python = nythop\n"
     ]
    }
   ],
   "source": [
    "#1 program to change a given string to a new string where the first and last chars have been exchanged. [eg: python -> nythop]\n",
    "\n",
    "\n",
    "string=input(\"enter a string:\")\n",
    "newstring=string[-1] + string[1:-1] + string [0]\n",
    "    \n",
    "print(f\"{string} =\",newstring)"
   ]
  },
  {
   "cell_type": "code",
   "execution_count": 2,
   "id": "d6f7dc41",
   "metadata": {},
   "outputs": [
    {
     "name": "stdout",
     "output_type": "stream",
     "text": [
      "enter a string:hello\n",
      "enter a string:world\n",
      "hello world\n",
      "wollo herld\n"
     ]
    }
   ],
   "source": [
    "#2 program to get a single string from two given strings, separated by a space and swap the first two characters of each string\n",
    "\n",
    "s1=input(\"enter a string:\")\n",
    "s2=input(\"enter a string:\")\n",
    "print(f\"{s1} {s2}\")\n",
    "print(s2[:2]+s1[2:],s1[:2]+s2[2:])"
   ]
  },
  {
   "cell_type": "code",
   "execution_count": 3,
   "id": "dbbb2c58",
   "metadata": {},
   "outputs": [
    {
     "name": "stdout",
     "output_type": "stream",
     "text": [
      "enter a string:onion\n",
      "onion = oni$n\n"
     ]
    }
   ],
   "source": [
    "#3 program to get a string from a given string where all occurrences of its first char have been changed to $, except the first char itself.[ex: oniononi$n]\n",
    "\n",
    "string=input(\"enter a string:\")\n",
    "firstchar=string[0]\n",
    "newstring=firstchar + string[1:].replace(firstchar,'$')\n",
    "print(f\"{string} =\",newstring)\n"
   ]
  },
  {
   "cell_type": "code",
   "execution_count": 4,
   "id": "a7e98df1",
   "metadata": {},
   "outputs": [
    {
     "name": "stdout",
     "output_type": "stream",
     "text": [
      "Enter colors seperated by comma:red,green,blue,yellow\n",
      "First color=red\n",
      "Last color=yellow\n"
     ]
    }
   ],
   "source": [
    "#4 Create a list of colors from comma-separated color names entered by user. Display first and last colors.\n",
    "\n",
    "colors=list(input(\"Enter colors seperated by comma:\").split(','))\n",
    "print(f\"First color={colors[0]}\")\n",
    "print(f\"Last color={colors[-1]}\")"
   ]
  },
  {
   "cell_type": "code",
   "execution_count": 5,
   "id": "542ed370",
   "metadata": {},
   "outputs": [
    {
     "name": "stdout",
     "output_type": "stream",
     "text": [
      "enter file name:image.jpg\n",
      "extension of the file is jpg\n"
     ]
    }
   ],
   "source": [
    "#5 program to accept a filename from the user, print extension of that. (using list)\n",
    "\n",
    "ext=input(\"enter file name:\")\n",
    "print(f\"extension of the file is\",ext.split('.')[-1])"
   ]
  },
  {
   "cell_type": "code",
   "execution_count": 6,
   "id": "781aff79",
   "metadata": {},
   "outputs": [
    {
     "name": "stdout",
     "output_type": "stream",
     "text": [
      "enter the values for tuple seperated by comma:1,2,3,4,5,6,7\n",
      "3rd element is 3 and 3rd element from last is 5\n"
     ]
    }
   ],
   "source": [
    "#6 program to get the 3rd element and 3rd  element from last of a tuple.\n",
    "\n",
    "values=tuple(input(\"enter the values for tuple seperated by comma:\").split(','))\n",
    "print(\"3rd element is\",values[2],\"and 3rd element from last is\",values[-3])"
   ]
  },
  {
   "cell_type": "code",
   "execution_count": 7,
   "id": "e0d01453",
   "metadata": {},
   "outputs": [
    {
     "name": "stdout",
     "output_type": "stream",
     "text": [
      "enter colors seperated by comma:red,green,blue,yellow\n",
      "enter colors seperated by comma:green,white,cyan\n",
      "Final color set =  {'blue', 'red', 'yellow'}\n"
     ]
    }
   ],
   "source": [
    "#7 program to print all colors from color-set1, not contained in color-set2.\n",
    "\n",
    "color_set1=set(input(\"enter colors seperated by comma:\").split(','))\n",
    "color_set2=set(input(\"enter colors seperated by comma:\").split(','))\n",
    "print(\"Final color set = \",color_set1 - color_set2)"
   ]
  },
  {
   "cell_type": "code",
   "execution_count": 3,
   "id": "57034da0",
   "metadata": {},
   "outputs": [
    {
     "name": "stdout",
     "output_type": "stream",
     "text": [
      "enter 5 roll no's seperated by comma:2,5,3,1,4\n",
      "enter 5 names of students seperated by comma:yaseen,arun,saneen,amil,aswin\n",
      "Dictionary= {'2': 'yaseen', '5': 'arun', '3': 'saneen', '1': 'amil', '4': 'aswin'}\n",
      "Ascending order= {'1': 'amil', '2': 'yaseen', '3': 'saneen', '4': 'aswin', '5': 'arun'}\n",
      "Descending order= {'5': 'arun', '4': 'aswin', '3': 'saneen', '2': 'yaseen', '1': 'amil'}\n"
     ]
    }
   ],
   "source": [
    "#8 program to sort dictionary in ascending and descending order. (Accept 5 student names from user.)\n",
    "\n",
    "roll=input(\"enter 5 roll no's seperated by comma:\").split(',')\n",
    "name=input(\"enter 5 names of students seperated by comma:\").split(',')\n",
    "d={roll[0]:name[0],roll[1]:name[1],roll[2]:name[2],roll[3]:name[3],roll[4]:name[4]}\n",
    "print(\"Dictionary=\",d)\n",
    "sort=dict(sorted(d.items()))\n",
    "print(\"Ascending order=\",sort)\n",
    "rev_sort=dict(sorted(d.items(),reverse=True))\n",
    "print(\"Descending order=\",rev_sort)"
   ]
  },
  {
   "cell_type": "code",
   "execution_count": 15,
   "id": "879dee15",
   "metadata": {},
   "outputs": [
    {
     "name": "stdout",
     "output_type": "stream",
     "text": [
      "merged dictionary= {'student1': 'amil', 'student2': 'nishan', 'student3': 'shanu', 'student4': 'yaseen', 'student5': 'arun'}\n"
     ]
    }
   ],
   "source": [
    "#9 program to Merge two dictionaries. (Dic 1 contains 3 student names, dic2 contains 2 student names)\n",
    "\n",
    "dict1={'student1':'amil' ,'student2':'nishan','student3':'shanu'}\n",
    "dict2={'student4':'yaseen','student5':'arun'}\n",
    "dict1.update(dict2)\n",
    "print(\"merged dictionary=\",dict1)"
   ]
  },
  {
   "cell_type": "code",
   "execution_count": 16,
   "id": "8c48f1f2",
   "metadata": {},
   "outputs": [
    {
     "name": "stdout",
     "output_type": "stream",
     "text": [
      "even numbers= [2, 4, 6, 8, 10, 12, 14, 16, 18, 20, 22, 24]\n",
      "sum= 156\n"
     ]
    }
   ],
   "source": [
    "#10 program to print all even numbers from 1 to 25 and calculate sum . (using the range() function directly without a loop or conditions)\n",
    "\n",
    "even=list(range(2,25,2))\n",
    "print(\"even numbers=\",even)\n",
    "print(\"sum=\",sum(even))"
   ]
  },
  {
   "cell_type": "code",
   "execution_count": null,
   "id": "5c58bf92",
   "metadata": {},
   "outputs": [],
   "source": []
  }
 ],
 "metadata": {
  "kernelspec": {
   "display_name": "Python 3 (ipykernel)",
   "language": "python",
   "name": "python3"
  },
  "language_info": {
   "codemirror_mode": {
    "name": "ipython",
    "version": 3
   },
   "file_extension": ".py",
   "mimetype": "text/x-python",
   "name": "python",
   "nbconvert_exporter": "python",
   "pygments_lexer": "ipython3",
   "version": "3.9.7"
  }
 },
 "nbformat": 4,
 "nbformat_minor": 5
}
